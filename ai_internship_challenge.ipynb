{
 "cells": [
  {
   "cell_type": "markdown",
   "metadata": {},
   "source": [
    "# NLP and Data Extraction Challenge\n",
    "## Data Science and Machine Learning"
   ]
  },
  {
   "cell_type": "markdown",
   "metadata": {},
   "source": [
    "Internship Brazil Labs - 2024"
   ]
  },
  {
   "cell_type": "markdown",
   "metadata": {},
   "source": [
    "> The idea of this test is to understand your way of thinking, coding, and problem-solving skills. There is no right answer, just follow your instincts and share with us the solutions of the challenges below."
   ]
  },
  {
   "cell_type": "markdown",
   "metadata": {},
   "source": [
    "# 1) Exploratory Data Analysis (EDA) and Visualization"
   ]
  },
  {
   "cell_type": "markdown",
   "metadata": {},
   "source": [
    ">EDA is a set of process of examining, cleaning, and transforming data to uncover patterns, spot anomalies, test hypotheses, or check assumptions.\n"
   ]
  },
  {
   "cell_type": "markdown",
   "metadata": {},
   "source": [
    ">Data visualization is the act of taking information (data) and placing it into a visual context, such as a map or graph. Data visualizations make big and small data easier for the human brain to understand, and visualization also makes it easier to detect patterns, trends, and outliers in groups of data."
   ]
  },
  {
   "cell_type": "markdown",
   "metadata": {},
   "source": [
    "The **first challenge** is: explore information from **dataset.csv** file.\n",
    "<br>\n",
    "You can choose your preferred techniques or tools, be aware that sometimes less is more, present meaningful insights, and show us what you have found interesting on this dataset!"
   ]
  },
  {
   "cell_type": "markdown",
   "metadata": {},
   "source": [
    "### Solution"
   ]
  },
  {
   "cell_type": "code",
   "execution_count": 129,
   "metadata": {},
   "outputs": [
    {
     "data": {
      "text/html": [
       "<div>\n",
       "<style scoped>\n",
       "    .dataframe tbody tr th:only-of-type {\n",
       "        vertical-align: middle;\n",
       "    }\n",
       "\n",
       "    .dataframe tbody tr th {\n",
       "        vertical-align: top;\n",
       "    }\n",
       "\n",
       "    .dataframe thead th {\n",
       "        text-align: right;\n",
       "    }\n",
       "</style>\n",
       "<table border=\"1\" class=\"dataframe\">\n",
       "  <thead>\n",
       "    <tr style=\"text-align: right;\">\n",
       "      <th></th>\n",
       "      <th>Category</th>\n",
       "      <th>Resume</th>\n",
       "    </tr>\n",
       "  </thead>\n",
       "  <tbody>\n",
       "    <tr>\n",
       "      <th>0</th>\n",
       "      <td>Data Science</td>\n",
       "      <td>Skills * Programming Languages: Python (pandas...</td>\n",
       "    </tr>\n",
       "    <tr>\n",
       "      <th>1</th>\n",
       "      <td>Data Science</td>\n",
       "      <td>Education Details \\r\\nMay 2013 to May 2017 B.E...</td>\n",
       "    </tr>\n",
       "    <tr>\n",
       "      <th>2</th>\n",
       "      <td>Data Science</td>\n",
       "      <td>Areas of Interest Deep Learning, Control Syste...</td>\n",
       "    </tr>\n",
       "    <tr>\n",
       "      <th>3</th>\n",
       "      <td>Data Science</td>\n",
       "      <td>Skills â¢ R â¢ Python â¢ SAP HANA â¢ Table...</td>\n",
       "    </tr>\n",
       "    <tr>\n",
       "      <th>4</th>\n",
       "      <td>Data Science</td>\n",
       "      <td>Education Details \\r\\n MCA   YMCAUST,  Faridab...</td>\n",
       "    </tr>\n",
       "  </tbody>\n",
       "</table>\n",
       "</div>"
      ],
      "text/plain": [
       "       Category                                             Resume\n",
       "0  Data Science  Skills * Programming Languages: Python (pandas...\n",
       "1  Data Science  Education Details \\r\\nMay 2013 to May 2017 B.E...\n",
       "2  Data Science  Areas of Interest Deep Learning, Control Syste...\n",
       "3  Data Science  Skills â¢ R â¢ Python â¢ SAP HANA â¢ Table...\n",
       "4  Data Science  Education Details \\r\\n MCA   YMCAUST,  Faridab..."
      ]
     },
     "execution_count": 129,
     "metadata": {},
     "output_type": "execute_result"
    }
   ],
   "source": [
    "# open csv file\n",
    "import pandas as pd\n",
    "import regex as re\n",
    "import random\n",
    "\n",
    "dados = pd.read_csv('resume_dataset.csv', delimiter=',', encoding='utf-8')\n",
    "\n",
    "dados.head()"
   ]
  },
  {
   "cell_type": "code",
   "execution_count": 130,
   "metadata": {},
   "outputs": [
    {
     "data": {
      "text/html": [
       "<div>\n",
       "<style scoped>\n",
       "    .dataframe tbody tr th:only-of-type {\n",
       "        vertical-align: middle;\n",
       "    }\n",
       "\n",
       "    .dataframe tbody tr th {\n",
       "        vertical-align: top;\n",
       "    }\n",
       "\n",
       "    .dataframe thead th {\n",
       "        text-align: right;\n",
       "    }\n",
       "</style>\n",
       "<table border=\"1\" class=\"dataframe\">\n",
       "  <thead>\n",
       "    <tr style=\"text-align: right;\">\n",
       "      <th></th>\n",
       "      <th>Skill</th>\n",
       "      <th>Level (months)</th>\n",
       "    </tr>\n",
       "  </thead>\n",
       "  <tbody>\n",
       "    <tr>\n",
       "      <th>0</th>\n",
       "      <td>javascript</td>\n",
       "      <td>24.000000</td>\n",
       "    </tr>\n",
       "    <tr>\n",
       "      <th>1</th>\n",
       "      <td>jquery</td>\n",
       "      <td>24.000000</td>\n",
       "    </tr>\n",
       "    <tr>\n",
       "      <th>2</th>\n",
       "      <td>python</td>\n",
       "      <td>24.000000</td>\n",
       "    </tr>\n",
       "    <tr>\n",
       "      <th>3</th>\n",
       "      <td>python</td>\n",
       "      <td>7.212006</td>\n",
       "    </tr>\n",
       "    <tr>\n",
       "      <th>4</th>\n",
       "      <td>statsmodels</td>\n",
       "      <td>12.000000</td>\n",
       "    </tr>\n",
       "    <tr>\n",
       "      <th>...</th>\n",
       "      <td>...</td>\n",
       "      <td>...</td>\n",
       "    </tr>\n",
       "    <tr>\n",
       "      <th>4115</th>\n",
       "      <td>testing</td>\n",
       "      <td>24.000000</td>\n",
       "    </tr>\n",
       "    <tr>\n",
       "      <th>4116</th>\n",
       "      <td>windows xp</td>\n",
       "      <td>24.000000</td>\n",
       "    </tr>\n",
       "    <tr>\n",
       "      <th>4117</th>\n",
       "      <td>css</td>\n",
       "      <td>6.000000</td>\n",
       "    </tr>\n",
       "    <tr>\n",
       "      <th>4118</th>\n",
       "      <td>database</td>\n",
       "      <td>6.000000</td>\n",
       "    </tr>\n",
       "    <tr>\n",
       "      <th>4119</th>\n",
       "      <td>database testing</td>\n",
       "      <td>6.000000</td>\n",
       "    </tr>\n",
       "  </tbody>\n",
       "</table>\n",
       "<p>4120 rows × 2 columns</p>\n",
       "</div>"
      ],
      "text/plain": [
       "                 Skill  Level (months)\n",
       "0           javascript       24.000000\n",
       "1               jquery       24.000000\n",
       "2               python       24.000000\n",
       "3               python        7.212006\n",
       "4          statsmodels       12.000000\n",
       "...                ...             ...\n",
       "4115           testing       24.000000\n",
       "4116        windows xp       24.000000\n",
       "4117               css        6.000000\n",
       "4118          database        6.000000\n",
       "4119  database testing        6.000000\n",
       "\n",
       "[4120 rows x 2 columns]"
      ]
     },
     "execution_count": 130,
     "metadata": {},
     "output_type": "execute_result"
    }
   ],
   "source": [
    "\n",
    "#TODO: extract skills from text\n",
    "\n",
    "def extractSkills(text):\n",
    "    skills = {}\n",
    "    text = text.lower()\n",
    "    \n",
    "    # regex to scrap skills and experience from text\n",
    "    reg = r'(?<=\\n|^)(?!skill details\\s*\\n)([^\\n-]+)-\\s*exprience\\s*-\\s*(less than \\d+ year|\\d+)\\s*months?'\n",
    "    matches = re.findall(reg, text)\n",
    "\n",
    "    for match in matches:\n",
    "        habilidades_str, experiencia = match\n",
    "\n",
    "        experiencia = random.uniform(1,11) if experiencia.startswith('less than') else int(experiencia)\n",
    "\n",
    "        if ',' in habilidades_str:\n",
    "            habilidades = [habilidade.strip() for habilidade in habilidades_str.split(',')]\n",
    "\n",
    "        else:\n",
    "            habilidades = [habilidades_str.strip()]\n",
    "\n",
    "        for habilidade in habilidades:\n",
    "            skills[habilidade] = experiencia\n",
    "\n",
    "    return skills\n",
    "\n",
    "\n",
    "data_hab = []\n",
    "\n",
    "for index, row in dados.iterrows():\n",
    "    text = row['Resume']\n",
    "\n",
    "    if 'skill details' in text.lower():\n",
    "        habilidades = extractSkills(text)\n",
    "\n",
    "        data_hab.append({'skills': habilidades})\n",
    "\n",
    "\n",
    "\n",
    "df = pd.DataFrame([(skill, exp) for d in data_hab for skill, exp in d['skills'].items()], columns=['Skill', 'Level (months)'])\n",
    "\n",
    "df\n"
   ]
  },
  {
   "cell_type": "code",
   "execution_count": 131,
   "metadata": {},
   "outputs": [
    {
     "data": {
      "image/png": "[encoded data removed]",
      "text/plain": [
       "<Figure size 1000x600 with 1 Axes>"
      ]
     },
     "metadata": {},
     "output_type": "display_data"
    }
   ],
   "source": [
    "import matplotlib.pyplot as plt\n",
    "\n",
    "# see most know skills\n",
    "skill_counts = df['Skill'].value_counts()\n",
    "\n",
    "sorted_skills = skill_counts.sort_values(ascending=False)\n",
    "\n",
    "#sorted_skills.head(10)\n",
    "\n",
    "top_skills = sorted_skills.head(10)\n",
    "\n",
    "top_skill_names = top_skills.index.tolist()\n",
    "top_skill_counts = top_skills.values\n",
    "\n",
    "plt.figure(figsize=(10, 6))\n",
    "bars = plt.bar(top_skill_names, top_skill_counts)\n",
    "\n",
    "for bar, count in zip(bars, top_skill_counts):\n",
    "    plt.text(bar.get_x() + bar.get_width() / 2, bar.get_height(), str(count), \n",
    "             ha='center', va='bottom')\n",
    "\n",
    "plt.xlabel('Skill')\n",
    "plt.ylabel('Count')\n",
    "plt.title('Top 10 Most Common Skills')\n",
    "\n",
    "plt.tight_layout()\n",
    "plt.show()"
   ]
  },
  {
   "cell_type": "code",
   "execution_count": 132,
   "metadata": {},
   "outputs": [
    {
     "data": {
      "text/plain": [
       "Skill\n",
       "staffing          125.0\n",
       "power point       120.0\n",
       "amazon mws        120.0\n",
       "sap abap          120.0\n",
       "node.js           120.0\n",
       "                  ...  \n",
       "finance             3.0\n",
       "human resource      3.0\n",
       "mathematics         3.0\n",
       "aaa                 3.0\n",
       "internet savvy      3.0\n",
       "Name: Level (months), Length: 384, dtype: float64"
      ]
     },
     "execution_count": 132,
     "metadata": {},
     "output_type": "execute_result"
    }
   ],
   "source": [
    "import numpy as np\n",
    "\n",
    "average_experience_by_skill = df.groupby('Skill')['Level (months)'].mean()\n",
    "\n",
    "average_experience_by_skill = np.floor(average_experience_by_skill)\n",
    "\n",
    "sorted_experience = average_experience_by_skill.sort_values(ascending=False)\n",
    "\n",
    "sorted_experience"
   ]
  },
  {
   "cell_type": "code",
   "execution_count": 133,
   "metadata": {},
   "outputs": [
    {
     "data": {
      "image/png": "[encoded data removed]",
      "text/plain": [
       "<Figure size 1000x600 with 1 Axes>"
      ]
     },
     "metadata": {},
     "output_type": "display_data"
    }
   ],
   "source": [
    "#visualization\n",
    "\n",
    "top_skills = sorted_experience.head(5)\n",
    "\n",
    "top_skill_names = top_skills.index.tolist()\n",
    "\n",
    "top_skill_counts = top_skills.values\n",
    "\n",
    "plt.figure(figsize=(10, 6))\n",
    "\n",
    "bars = plt.bar(top_skill_names, top_skill_counts)\n",
    "\n",
    "for bar, count in zip(bars, top_skill_counts):\n",
    "    plt.text(bar.get_x() + bar.get_width() / 2, bar.get_height(), str(count), \n",
    "             ha='center', va='bottom')\n",
    "    \n",
    "plt.xlabel('Skill')\n",
    "plt.ylabel(' Average Experience (months)')\n",
    "\n",
    "plt.title('Top 5 Most Experienced Skills')\n",
    "\n",
    "plt.tight_layout()\n",
    "plt.show()\n"
   ]
  },
  {
   "cell_type": "markdown",
   "metadata": {},
   "source": [
    "### Explain the rationale of your decision about techniques and visualizations"
   ]
  },
  {
   "cell_type": "markdown",
   "metadata": {},
   "source": [
    "### Understanding the dataset\n",
    "\n",
    "Firstly, I read the dataset to understand the data and the problem. I've realized that a pattern emerged from the resumes: the Skill Details from each candidate. So, I decided to extract the skills and experience time from each candidate, to analyze the dataset and find usefull insights.\n",
    "\n",
    "### Extracting the Skills\n",
    "\n",
    "The way that the CSV file is organized, there's a column called \"Category\", and the whole resume is inside a \"Resume\" column. So, the real challenge was to scrap the data from inside the resume value.\n",
    "My approach was to use a Regex to find the skills and experience time from each candidate. I've used the following Regex:\n",
    "\n",
    "```(?<=\\n|^)(?!skill details\\s*\\n)([^\\n-]+)-\\s*exprience\\s*-\\s*(less than \\d+ year|\\d+)\\s*months?```\n",
    "\n",
    "This Regex will find the skills and experience time from each candidate. The Regex is divided in 3 parts:\n",
    "\n",
    "1. ```(?<=\\n|^)``` - This part will find the start of the resume, or the start of a new line. \n",
    "\n",
    "2. ```(?!skill details\\s*\\n)``` - This part makes sure that the Regex will not find the \"Skill Details\" line, because it's not a skill.\n",
    "\n",
    "3. ```([^\\n-]+)-\\s*exprience\\s*-\\s*(less than \\d+ year|\\d+)\\s*months?``` - This detects the pattern of a skill and experience time. The first part ```([^\\n-]+)``` will find the skill name, and the second part ```-\\s*exprience\\s*-\\s*(less than \\d+ year|\\d+)\\s*months?``` will find the experience time. The experience time can be \"less than X year\" or \"X months\".\n",
    "\n",
    "\n",
    "When the regex finds a match, there's a condition to check if the skills are in a single line, separeted by commas. If that's the case, the skills are separeted by commas and the experience time is the same for all skills. \n",
    "\n",
    "Also, there's a treatment to when the experience is described as \"less than 1 year\". When that's the case, the experience time is set to a random number between 1 and 11.\n",
    "\n",
    "### Data Analysis and Visualization\n",
    "\n",
    "After extracting the skills and experience time, I wanted to understand what are the most common skills, and the skills with the most experience time. \n",
    "\n",
    "To do that, I've sorted the skills by count; and the skills by experience time. Then, I've plotted the top 10 skills by count and experience time in a bar chart using the *matplotlib* library.\n",
    "\n"
   ]
  },
  {
   "cell_type": "markdown",
   "metadata": {},
   "source": [
    "# 2) NLP techniques / Machine Learning approach"
   ]
  },
  {
   "cell_type": "markdown",
   "metadata": {},
   "source": [
    "The **second challenge** is: explore dataset information and apply NLP techniques or Machine Learning models to extract even more usefull information from data. Feel free to explore different machine learning models (e.g classification, clustering, etc) and make sure to explain the model results for each task you apply these ML models.\n",
    "<br><br>\n",
    "You can choose your preferred techniques or tools, be aware that sometimes less is more, present meaningful insights, and show us what you have found interesting on those files! (i.e: topic modeling, word distributions, etc)"
   ]
  },
  {
   "cell_type": "markdown",
   "metadata": {},
   "source": [
    "### Machine Learning approach"
   ]
  },
  {
   "cell_type": "markdown",
   "metadata": {},
   "source": [
    "## Language Assosiation Analysis"
   ]
  },
  {
   "cell_type": "code",
   "execution_count": 142,
   "metadata": {},
   "outputs": [
    {
     "data": {
      "text/html": [
       "<div>\n",
       "<style scoped>\n",
       "    .dataframe tbody tr th:only-of-type {\n",
       "        vertical-align: middle;\n",
       "    }\n",
       "\n",
       "    .dataframe tbody tr th {\n",
       "        vertical-align: top;\n",
       "    }\n",
       "\n",
       "    .dataframe thead th {\n",
       "        text-align: right;\n",
       "    }\n",
       "</style>\n",
       "<table border=\"1\" class=\"dataframe\">\n",
       "  <thead>\n",
       "    <tr style=\"text-align: right;\">\n",
       "      <th></th>\n",
       "      <th>Resume</th>\n",
       "      <th>Skills</th>\n",
       "    </tr>\n",
       "  </thead>\n",
       "  <tbody>\n",
       "    <tr>\n",
       "      <th>0</th>\n",
       "      <td>0</td>\n",
       "      <td>[python, javascript, jquery]</td>\n",
       "    </tr>\n",
       "    <tr>\n",
       "      <th>1</th>\n",
       "      <td>1</td>\n",
       "      <td>[machine learning, aws, python, keras, scipy, ...</td>\n",
       "    </tr>\n",
       "    <tr>\n",
       "      <th>2</th>\n",
       "      <td>2</td>\n",
       "      <td>[machine learning, matlab, python, mathematics...</td>\n",
       "    </tr>\n",
       "    <tr>\n",
       "      <th>3</th>\n",
       "      <td>3</td>\n",
       "      <td>[machine learning, r, python, sql, retail, lin...</td>\n",
       "    </tr>\n",
       "    <tr>\n",
       "      <th>4</th>\n",
       "      <td>4</td>\n",
       "      <td>[database management, core java, python, c, da...</td>\n",
       "    </tr>\n",
       "    <tr>\n",
       "      <th>...</th>\n",
       "      <td>...</td>\n",
       "      <td>...</td>\n",
       "    </tr>\n",
       "    <tr>\n",
       "      <th>957</th>\n",
       "      <td>957</td>\n",
       "      <td>[word, excel, ms office]</td>\n",
       "    </tr>\n",
       "    <tr>\n",
       "      <th>958</th>\n",
       "      <td>958</td>\n",
       "      <td>[]</td>\n",
       "    </tr>\n",
       "    <tr>\n",
       "      <th>959</th>\n",
       "      <td>959</td>\n",
       "      <td>[]</td>\n",
       "    </tr>\n",
       "    <tr>\n",
       "      <th>960</th>\n",
       "      <td>960</td>\n",
       "      <td>[pcb, pcb design, matlab]</td>\n",
       "    </tr>\n",
       "    <tr>\n",
       "      <th>961</th>\n",
       "      <td>961</td>\n",
       "      <td>[css, windows xp, testing, database testing, d...</td>\n",
       "    </tr>\n",
       "  </tbody>\n",
       "</table>\n",
       "<p>962 rows × 2 columns</p>\n",
       "</div>"
      ],
      "text/plain": [
       "     Resume                                             Skills\n",
       "0         0                       [python, javascript, jquery]\n",
       "1         1  [machine learning, aws, python, keras, scipy, ...\n",
       "2         2  [machine learning, matlab, python, mathematics...\n",
       "3         3  [machine learning, r, python, sql, retail, lin...\n",
       "4         4  [database management, core java, python, c, da...\n",
       "..      ...                                                ...\n",
       "957     957                           [word, excel, ms office]\n",
       "958     958                                                 []\n",
       "959     959                                                 []\n",
       "960     960                          [pcb, pcb design, matlab]\n",
       "961     961  [css, windows xp, testing, database testing, d...\n",
       "\n",
       "[962 rows x 2 columns]"
      ]
     },
     "execution_count": 142,
     "metadata": {},
     "output_type": "execute_result"
    }
   ],
   "source": [
    "\n",
    "# Função para extrair habilidades do texto\n",
    "def extractSkills(text):\n",
    "    skills = set()\n",
    "    text = text.lower()\n",
    "    \n",
    "    # regex para coletar habilidades\n",
    "    reg = r'(?<=\\n|^)(?!skill details\\s*\\n)([^\\n-]+)-\\s*exprience'\n",
    "    matches = re.findall(reg, text)\n",
    "\n",
    "    for match in matches:\n",
    "        habilidades_str = match.strip()\n",
    "\n",
    "        if ',' in habilidades_str:\n",
    "            habilidades = [habilidade.strip() for habilidade in habilidades_str.split(',')]\n",
    "        else:\n",
    "            habilidades = [habilidades_str.strip()]\n",
    "\n",
    "        for habilidade in habilidades:\n",
    "            skills.add(habilidade)\n",
    "\n",
    "    return list(skills)\n",
    "\n",
    "# Carregar dados do arquivo CSV\n",
    "dados = pd.read_csv('resume_dataset.csv', delimiter=',', encoding='utf-8')\n",
    "\n",
    "# Lista para armazenar os currículos e habilidades extraídas\n",
    "data_hab = []\n",
    "\n",
    "# Iterar sobre os dados\n",
    "for index, row in dados.iterrows():\n",
    "    text = row['Resume']\n",
    "    habilidades = extractSkills(text)\n",
    "    data_hab.append({'Resume': index, 'Skills': habilidades})\n",
    "\n",
    "# Criar DataFrame com os currículos e habilidades extraídas\n",
    "df = pd.DataFrame(data_hab)\n",
    "\n",
    "df"
   ]
  },
  {
   "cell_type": "code",
   "execution_count": null,
   "metadata": {},
   "outputs": [],
   "source": [
    "import pandas as pd\n",
    "from mlxtend.preprocessing import TransactionEncoder\n",
    "from mlxtend.frequent_patterns import apriori, association_rules\n",
    "\n",
    "# Carregar os dados\n",
    "data = pd.read_csv('seu_dataset.csv')\n",
    "\n",
    "# Converta a coluna 'skills' em uma lista de listas\n",
    "skills_list = data['skills'].apply(eval).tolist()\n",
    "\n",
    "# Criar Conjuntos de Transações\n",
    "te = TransactionEncoder()\n",
    "te_ary = te.fit(skills_list).transform(skills_list)\n",
    "df_encoded = pd.DataFrame(te_ary, columns=te.columns_)\n",
    "\n",
    "# Aplicar Algoritmo de Associação (Apriori)\n",
    "frequent_itemsets = apriori(df_encoded, min_support=0.1, use_colnames=True)\n",
    "\n",
    "# Gerar regras de associação\n",
    "rules = association_rules(frequent_itemsets, metric=\"lift\", min_threshold=1.0)\n",
    "\n",
    "# Analisar e Interpretar Resultados\n",
    "print(rules)\n"
   ]
  },
  {
   "cell_type": "markdown",
   "metadata": {},
   "source": [
    "### Explain the rationale of your NLP techniques/ML models usage and conclusions"
   ]
  },
  {
   "cell_type": "code",
   "execution_count": null,
   "metadata": {},
   "outputs": [],
   "source": []
  },
  {
   "cell_type": "markdown",
   "metadata": {},
   "source": [
    "# 3) Presentation"
   ]
  },
  {
   "cell_type": "markdown",
   "metadata": {},
   "source": [
    "The **third** and last exercise is: present your findings to us, challenges of this exercise and how you handled them, and any other important information you will like to share with us.\n",
    "<br><br>\n",
    "We will be evaluating your Python code, how you organize your toughts and explanations during the presentation, and other aspects we see as important for a good presentation. You don't need to generate any output for this third task. "
   ]
  },
  {
   "cell_type": "markdown",
   "metadata": {},
   "source": [
    "Good luck! :)"
   ]
  }
 ],
 "metadata": {
  "kernelspec": {
   "display_name": "Python 3 (ipykernel)",
   "language": "python",
   "name": "python3"
  },
  "language_info": {
   "codemirror_mode": {
    "name": "ipython",
    "version": 3
   },
   "file_extension": ".py",
   "mimetype": "text/x-python",
   "name": "python",
   "nbconvert_exporter": "python",
   "pygments_lexer": "ipython3",
   "version": "3.11.3"
  }
 },
 "nbformat": 4,
 "nbformat_minor": 4
}

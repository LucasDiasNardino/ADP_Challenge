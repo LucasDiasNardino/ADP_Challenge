{
 "cells": [
  {
   "cell_type": "markdown",
   "metadata": {},
   "source": [
    "# NLP and Data Extraction Challenge\n",
    "## Data Science and Machine Learning"
   ]
  },
  {
   "cell_type": "markdown",
   "metadata": {},
   "source": [
    "Internship Brazil Labs - 2024"
   ]
  },
  {
   "cell_type": "markdown",
   "metadata": {},
   "source": [
    "> The idea of this test is to understand your way of thinking, coding, and problem-solving skills. There is no right answer, just follow your instincts and share with us the solutions of the challenges below."
   ]
  },
  {
   "cell_type": "markdown",
   "metadata": {},
   "source": [
    "# 1) Exploratory Data Analysis (EDA) and Visualization"
   ]
  },
  {
   "cell_type": "markdown",
   "metadata": {},
   "source": [
    ">EDA is a set of process of examining, cleaning, and transforming data to uncover patterns, spot anomalies, test hypotheses, or check assumptions.\n"
   ]
  },
  {
   "cell_type": "markdown",
   "metadata": {},
   "source": [
    ">Data visualization is the act of taking information (data) and placing it into a visual context, such as a map or graph. Data visualizations make big and small data easier for the human brain to understand, and visualization also makes it easier to detect patterns, trends, and outliers in groups of data."
   ]
  },
  {
   "cell_type": "markdown",
   "metadata": {},
   "source": [
    "The **first challenge** is: explore information from **dataset.csv** file.\n",
    "<br>\n",
    "You can choose your preferred techniques or tools, be aware that sometimes less is more, present meaningful insights, and show us what you have found interesting on this dataset!"
   ]
  },
  {
   "cell_type": "markdown",
   "metadata": {},
   "source": [
    "### Solution"
   ]
  },
  {
   "cell_type": "markdown",
   "metadata": {},
   "source": [
    "### Importing the necessary libraries\n",
    "\n",
    "We will use the following libraries to perform the EDA and visualization:\n",
    "\n",
    "- pandas: to load the dataset and manipulate the data.\n",
    "- numpy: to perform mathematical operations.\n",
    "- matplotlib: to create visualizations.\n",
    "- regex: to work with regex.\n",
    "\n",
    "And the following for the AI/ML step:\n",
    "\n",
    "- sklearn: to perform the machine learning model.\n",
    "\n",
    "\n",
    "To install the libraries, use the pip command:\n",
    "\n",
    "``pip install *library_name*``\n",
    "\n",
    "After that, run the python cell below to import the libraries."
   ]
  },
  {
   "cell_type": "code",
   "execution_count": 91,
   "metadata": {},
   "outputs": [],
   "source": [
    "import random\n",
    "import regex as re\n",
    "import numpy as np\n",
    "import pandas as pd\n",
    "import matplotlib.pyplot as plt\n",
    "from sklearn.cluster import KMeans\n",
    "from sklearn.cluster import DBSCAN\n",
    "from sklearn.decomposition import PCA\n",
    "from sklearn.metrics import silhouette_score\n",
    "from sklearn.feature_extraction.text import CountVectorizer\n"
   ]
  },
  {
   "cell_type": "markdown",
   "metadata": {},
   "source": [
    "#### Loading the Dataset\n",
    "\n",
    "First of all, we need to read the dataset and take a look at the first rows to understand the data structure.\n"
   ]
  },
  {
   "cell_type": "code",
   "execution_count": 92,
   "metadata": {},
   "outputs": [
    {
     "data": {
      "text/html": [
       "<div>\n",
       "<style scoped>\n",
       "    .dataframe tbody tr th:only-of-type {\n",
       "        vertical-align: middle;\n",
       "    }\n",
       "\n",
       "    .dataframe tbody tr th {\n",
       "        vertical-align: top;\n",
       "    }\n",
       "\n",
       "    .dataframe thead th {\n",
       "        text-align: right;\n",
       "    }\n",
       "</style>\n",
       "<table border=\"1\" class=\"dataframe\">\n",
       "  <thead>\n",
       "    <tr style=\"text-align: right;\">\n",
       "      <th></th>\n",
       "      <th>Category</th>\n",
       "      <th>Resume</th>\n",
       "    </tr>\n",
       "  </thead>\n",
       "  <tbody>\n",
       "    <tr>\n",
       "      <th>0</th>\n",
       "      <td>Data Science</td>\n",
       "      <td>Skills * Programming Languages: Python (pandas...</td>\n",
       "    </tr>\n",
       "    <tr>\n",
       "      <th>1</th>\n",
       "      <td>Data Science</td>\n",
       "      <td>Education Details \\r\\nMay 2013 to May 2017 B.E...</td>\n",
       "    </tr>\n",
       "    <tr>\n",
       "      <th>2</th>\n",
       "      <td>Data Science</td>\n",
       "      <td>Areas of Interest Deep Learning, Control Syste...</td>\n",
       "    </tr>\n",
       "    <tr>\n",
       "      <th>3</th>\n",
       "      <td>Data Science</td>\n",
       "      <td>Skills â¢ R â¢ Python â¢ SAP HANA â¢ Table...</td>\n",
       "    </tr>\n",
       "    <tr>\n",
       "      <th>4</th>\n",
       "      <td>Data Science</td>\n",
       "      <td>Education Details \\r\\n MCA   YMCAUST,  Faridab...</td>\n",
       "    </tr>\n",
       "  </tbody>\n",
       "</table>\n",
       "</div>"
      ],
      "text/plain": [
       "       Category                                             Resume\n",
       "0  Data Science  Skills * Programming Languages: Python (pandas...\n",
       "1  Data Science  Education Details \\r\\nMay 2013 to May 2017 B.E...\n",
       "2  Data Science  Areas of Interest Deep Learning, Control Syste...\n",
       "3  Data Science  Skills â¢ R â¢ Python â¢ SAP HANA â¢ Table...\n",
       "4  Data Science  Education Details \\r\\n MCA   YMCAUST,  Faridab..."
      ]
     },
     "execution_count": 92,
     "metadata": {},
     "output_type": "execute_result"
    }
   ],
   "source": [
    "dados = pd.read_csv('resume_dataset.csv', delimiter=',', encoding='utf-8')\n",
    "\n",
    "dados.head()"
   ]
  },
  {
   "cell_type": "markdown",
   "metadata": {},
   "source": [
    "### Scrapping the Skills from the Resumes\n",
    "\n",
    "With the dataset loaded, we need to scrap the skills from the resumes. The function below will be used for that purpose. The way it works is:\n",
    "\n",
    "- It will receive a resume as input.\n",
    "- It will use regex to find the skills in the resume.*\n",
    "- It will return a list with the skills found in the resume.\n",
    "\n",
    "*how the regex works is detailed in the rationale explanation in the last cell of this step\n"
   ]
  },
  {
   "cell_type": "code",
   "execution_count": 93,
   "metadata": {},
   "outputs": [],
   "source": [
    "def extractSkills(text):\n",
    "    skills = {}\n",
    "    text = text.lower()\n",
    "    \n",
    "    # regex to match the skills and experience\n",
    "    reg = r'(?<=\\n|^)(?!skill details\\s*\\n)([^\\n-]+)-\\s*exprience\\s*-\\s*(less than \\d+ year|\\d+)\\s*months?'\n",
    "    matches = re.findall(reg, text)\n",
    "\n",
    "    # iterate over the matches and extract the skills and experience\n",
    "    for match in matches:\n",
    "        \n",
    "        habilidades_str, experiencia = match\n",
    "\n",
    "        # treatment for when experience is less than a year\n",
    "        experiencia = random.uniform(1,11) if experiencia.startswith('less than') else int(experiencia)\n",
    "\n",
    "        # treatment for when skills are separated by comma \n",
    "        if ',' in habilidades_str:\n",
    "            habilidades = [habilidade.strip() for habilidade in habilidades_str.split(',')]\n",
    "\n",
    "        else:\n",
    "            habilidades = [habilidades_str.strip()]\n",
    "\n",
    "        for habilidade in habilidades:\n",
    "            skills[habilidade] = experiencia\n",
    "\n",
    "    return skills\n"
   ]
  },
  {
   "cell_type": "markdown",
   "metadata": {},
   "source": [
    "Using the function, we will create a dataframe containing all the skills found in the resumes and the respective level of experience in each. This dataframe will be used to perform the EDA and visualization."
   ]
  },
  {
   "cell_type": "code",
   "execution_count": 94,
   "metadata": {},
   "outputs": [
    {
     "data": {
      "text/html": [
       "<div>\n",
       "<style scoped>\n",
       "    .dataframe tbody tr th:only-of-type {\n",
       "        vertical-align: middle;\n",
       "    }\n",
       "\n",
       "    .dataframe tbody tr th {\n",
       "        vertical-align: top;\n",
       "    }\n",
       "\n",
       "    .dataframe thead th {\n",
       "        text-align: right;\n",
       "    }\n",
       "</style>\n",
       "<table border=\"1\" class=\"dataframe\">\n",
       "  <thead>\n",
       "    <tr style=\"text-align: right;\">\n",
       "      <th></th>\n",
       "      <th>Skill</th>\n",
       "      <th>Level (months)</th>\n",
       "    </tr>\n",
       "  </thead>\n",
       "  <tbody>\n",
       "    <tr>\n",
       "      <th>0</th>\n",
       "      <td>javascript</td>\n",
       "      <td>24.000000</td>\n",
       "    </tr>\n",
       "    <tr>\n",
       "      <th>1</th>\n",
       "      <td>jquery</td>\n",
       "      <td>24.000000</td>\n",
       "    </tr>\n",
       "    <tr>\n",
       "      <th>2</th>\n",
       "      <td>python</td>\n",
       "      <td>24.000000</td>\n",
       "    </tr>\n",
       "    <tr>\n",
       "      <th>3</th>\n",
       "      <td>python</td>\n",
       "      <td>8.220755</td>\n",
       "    </tr>\n",
       "    <tr>\n",
       "      <th>4</th>\n",
       "      <td>statsmodels</td>\n",
       "      <td>12.000000</td>\n",
       "    </tr>\n",
       "    <tr>\n",
       "      <th>...</th>\n",
       "      <td>...</td>\n",
       "      <td>...</td>\n",
       "    </tr>\n",
       "    <tr>\n",
       "      <th>4115</th>\n",
       "      <td>testing</td>\n",
       "      <td>24.000000</td>\n",
       "    </tr>\n",
       "    <tr>\n",
       "      <th>4116</th>\n",
       "      <td>windows xp</td>\n",
       "      <td>24.000000</td>\n",
       "    </tr>\n",
       "    <tr>\n",
       "      <th>4117</th>\n",
       "      <td>css</td>\n",
       "      <td>6.000000</td>\n",
       "    </tr>\n",
       "    <tr>\n",
       "      <th>4118</th>\n",
       "      <td>database</td>\n",
       "      <td>6.000000</td>\n",
       "    </tr>\n",
       "    <tr>\n",
       "      <th>4119</th>\n",
       "      <td>database testing</td>\n",
       "      <td>6.000000</td>\n",
       "    </tr>\n",
       "  </tbody>\n",
       "</table>\n",
       "<p>4120 rows × 2 columns</p>\n",
       "</div>"
      ],
      "text/plain": [
       "                 Skill  Level (months)\n",
       "0           javascript       24.000000\n",
       "1               jquery       24.000000\n",
       "2               python       24.000000\n",
       "3               python        8.220755\n",
       "4          statsmodels       12.000000\n",
       "...                ...             ...\n",
       "4115           testing       24.000000\n",
       "4116        windows xp       24.000000\n",
       "4117               css        6.000000\n",
       "4118          database        6.000000\n",
       "4119  database testing        6.000000\n",
       "\n",
       "[4120 rows x 2 columns]"
      ]
     },
     "execution_count": 94,
     "metadata": {},
     "output_type": "execute_result"
    }
   ],
   "source": [
    "data_hab = []\n",
    "\n",
    "# iterates over the rows of the dataframe and extract the skills \n",
    "for index, row in dados.iterrows():\n",
    "    text = row['Resume']\n",
    "\n",
    "    if 'skill details' in text.lower():\n",
    "        habilidades = extractSkills(text)\n",
    "\n",
    "        data_hab.append({'skills': habilidades})\n",
    "\n",
    "\n",
    "\n",
    "df = pd.DataFrame([(skill, exp) for d in data_hab for skill, exp in d['skills'].items()], columns=['Skill', 'Level (months)'])\n",
    "\n",
    "df"
   ]
  },
  {
   "cell_type": "markdown",
   "metadata": {},
   "source": [
    "### Identifying the Most Common Skills\n",
    "\n",
    "The first data analysis will be to identify the most common skills in the dataset. We will use the *value_counts()* method to do that.\n",
    "\n",
    "Then, we sort the skills by the number of occurrences and plot the top 10 skills in a bar chart using matplotlib. "
   ]
  },
  {
   "cell_type": "code",
   "execution_count": 95,
   "metadata": {},
   "outputs": [
    {
     "data": {
      "image/png": "[encoded data removed]",
      "text/plain": [
       "<Figure size 1000x600 with 1 Axes>"
      ]
     },
     "metadata": {},
     "output_type": "display_data"
    }
   ],
   "source": [
    "# count the number of occurrences of each skill\n",
    "skill_counts = df['Skill'].value_counts()\n",
    "\n",
    "# sort the skills by the number of occurrences\n",
    "sorted_skills = skill_counts.sort_values(ascending=False)\n",
    "\n",
    "top_skills = sorted_skills.head(10)\n",
    "\n",
    "top_skill_names = top_skills.index.tolist()\n",
    "top_skill_counts = top_skills.values\n",
    "\n",
    "plt.figure(figsize=(10, 6))\n",
    "bars = plt.bar(top_skill_names, top_skill_counts)\n",
    "\n",
    "for bar, count in zip(bars, top_skill_counts):\n",
    "    plt.text(bar.get_x() + bar.get_width() / 2, bar.get_height(), str(count), \n",
    "             ha='center', va='bottom')\n",
    "\n",
    "plt.xlabel('Skill')\n",
    "plt.ylabel('Count')\n",
    "plt.title('Top 10 Most Common Skills')\n",
    "\n",
    "plt.tight_layout()\n",
    "plt.show()"
   ]
  },
  {
   "cell_type": "markdown",
   "metadata": {},
   "source": [
    "### Identifying the Most Experienced Skills\n",
    "\n",
    "We will also identify the most experienced skills in the dataset. We will use the *groupby()* method to group the skills by the experience level and then calculate the mean experience level for each skill.\n",
    "\n",
    "Then, we sort the skills by the mean experience level and plot the top 10 skills in a bar chart using matplotlib."
   ]
  },
  {
   "cell_type": "code",
   "execution_count": 96,
   "metadata": {},
   "outputs": [
    {
     "data": {
      "image/png": "[encoded data removed]",
      "text/plain": [
       "<Figure size 1000x600 with 1 Axes>"
      ]
     },
     "metadata": {},
     "output_type": "display_data"
    }
   ],
   "source": [
    "average_experience_by_skill = np.floor(df.groupby('Skill')['Level (months)'].mean())\n",
    "\n",
    "sorted_experience = average_experience_by_skill.sort_values(ascending=False)\n",
    "\n",
    "top_skills = sorted_experience.head(5)\n",
    "top_skill_names = top_skills.index.tolist()\n",
    "top_skill_counts = top_skills.values\n",
    "\n",
    "plt.figure(figsize=(10, 6))\n",
    "\n",
    "bars = plt.bar(top_skill_names, top_skill_counts)\n",
    "for bar, count in zip(bars, top_skill_counts):\n",
    "    plt.text(bar.get_x() + bar.get_width() / 2, bar.get_height(), str(count), \n",
    "             ha='center', va='bottom')\n",
    "    \n",
    "plt.xlabel('Skill')\n",
    "plt.ylabel(' Average Experience (months)')\n",
    "plt.title('Top 5 Most Experienced Skills')\n",
    "\n",
    "plt.tight_layout()\n",
    "plt.show()\n"
   ]
  },
  {
   "cell_type": "markdown",
   "metadata": {},
   "source": [
    "### Explain the rationale of your decision about techniques and visualizations"
   ]
  },
  {
   "cell_type": "markdown",
   "metadata": {},
   "source": [
    "### Understanding the dataset\n",
    "\n",
    "Firstly, I read the dataset to understand the data and the problem. I've realized that a pattern emerged from the resumes: the Skill Details from each candidate. So, I decided to extract the skills and experience time from each candidate, to analyze the dataset and find usefull insights.\n",
    "\n",
    "### Extracting the Skills\n",
    "\n",
    "The way that the CSV file is organized, there's a column called \"Category\", and the whole resume is inside a \"Resume\" column. So, the real challenge was to scrap the data from inside the resume value.\n",
    "My approach was to use a Regex to find the skills and experience time from each candidate. I've used the following Regex:\n",
    "\n",
    "```(?<=\\n|^)(?!skill details\\s*\\n)([^\\n-]+)-\\s*exprience\\s*-\\s*(less than \\d+ year|\\d+)\\s*months?```\n",
    "\n",
    "This Regex will find the skills and experience time from each candidate. The Regex is divided in 3 parts:\n",
    "\n",
    "1. ```(?<=\\n|^)``` - This part will find the start of the resume, or the start of a new line. \n",
    "\n",
    "2. ```(?!skill details\\s*\\n)``` - This part makes sure that the Regex will not find the \"Skill Details\" line, because it's not a skill.\n",
    "\n",
    "3. ```([^\\n-]+)-\\s*exprience\\s*-\\s*(less than \\d+ year|\\d+)\\s*months?``` - This detects the pattern of a skill and experience time. The first part ```([^\\n-]+)``` will find the skill name, and the second part ```-\\s*exprience\\s*-\\s*(less than \\d+ year|\\d+)\\s*months?``` will find the experience time. The experience time can be \"less than X year\" or \"X months\".\n",
    "\n",
    "\n",
    "When the regex finds a match, there's a condition to check if the skills are in a single line, separeted by commas. If that's the case, the skills are separeted by commas and the experience time is the same for all skills. \n",
    "\n",
    "Also, there's a treatment to when the experience is described as \"less than 1 year\". When that's the case, the experience time is set to a random number between 1 and 11.\n",
    "\n",
    "### Data Visualization and Analysis\n",
    "\n",
    "After extracting the skills and experience time, I wanted to understand what are the most common skills, and the skills with the most experience time. \n",
    "\n",
    "To do that, I've sorted the skills by count; and the skills by experience time. Then, I've plotted the top 10 skills by count and the top 5 skills by experience time in a bar chart using the *matplotlib* library.\n",
    "\n",
    "Analysing the most common skills, we can see that Python leads the chart, followed by Java and Javascript. What that insight shows us is that the most common skills are programming languages commonly related to data activities, which is expected, since the dataset is formed manly by data professionals.\n",
    "\n",
    "Analysing the most experienced skills, we can see that the top 5 skills are related to team management, such as staffing, agile methodoly and jira. My interpretation is that the most experienced professionals are more related to team management and leadership, which is also expected, since the dataset is formed mainly by professionals with more than 5 years of experience.\n",
    "\n"
   ]
  },
  {
   "cell_type": "markdown",
   "metadata": {},
   "source": [
    "# 2) NLP techniques / Machine Learning approach"
   ]
  },
  {
   "cell_type": "markdown",
   "metadata": {},
   "source": [
    "The **second challenge** is: explore dataset information and apply NLP techniques or Machine Learning models to extract even more usefull information from data. Feel free to explore different machine learning models (e.g classification, clustering, etc) and make sure to explain the model results for each task you apply these ML models.\n",
    "<br><br>\n",
    "You can choose your preferred techniques or tools, be aware that sometimes less is more, present meaningful insights, and show us what you have found interesting on those files! (i.e: topic modeling, word distributions, etc)"
   ]
  },
  {
   "cell_type": "markdown",
   "metadata": {},
   "source": [
    "### Language Association Analysis\n",
    "\n",
    "As a challenge, I decided to perform a language association analysis. The idea is to understand the relationship between the skills cited in the resumes. That is, what skills are related to eachother and tend to appear together.\n",
    "\n",
    "To do that, firstly I've made some changes in the *extractSkills* method to extract all skills for each resume, instead of all skills in all resumes.\n"
   ]
  },
  {
   "cell_type": "code",
   "execution_count": 97,
   "metadata": {},
   "outputs": [],
   "source": [
    "def extractSkillsOnly(text):\n",
    "    skills = set()\n",
    "    text = text.lower()\n",
    "    \n",
    "    reg = r'(?<=\\n|^)(?!skill details\\s*\\n)([^\\n-]+)-\\s*exprience'\n",
    "    matches = re.findall(reg, text)\n",
    "\n",
    "    for match in matches:\n",
    "        habilidades_str = match.strip()\n",
    "\n",
    "        if ',' in habilidades_str:\n",
    "            habilidades = [habilidade.strip() for habilidade in habilidades_str.split(',')]\n",
    "        else:\n",
    "            habilidades = [habilidades_str.strip()]\n",
    "\n",
    "        for habilidade in habilidades:\n",
    "            skills.add(habilidade)\n",
    "\n",
    "    return list(skills)\n"
   ]
  },
  {
   "cell_type": "code",
   "execution_count": 98,
   "metadata": {},
   "outputs": [
    {
     "data": {
      "text/html": [
       "<div>\n",
       "<style scoped>\n",
       "    .dataframe tbody tr th:only-of-type {\n",
       "        vertical-align: middle;\n",
       "    }\n",
       "\n",
       "    .dataframe tbody tr th {\n",
       "        vertical-align: top;\n",
       "    }\n",
       "\n",
       "    .dataframe thead th {\n",
       "        text-align: right;\n",
       "    }\n",
       "</style>\n",
       "<table border=\"1\" class=\"dataframe\">\n",
       "  <thead>\n",
       "    <tr style=\"text-align: right;\">\n",
       "      <th></th>\n",
       "      <th>Skills</th>\n",
       "    </tr>\n",
       "  </thead>\n",
       "  <tbody>\n",
       "    <tr>\n",
       "      <th>0</th>\n",
       "      <td>[jquery, python, javascript]</td>\n",
       "    </tr>\n",
       "    <tr>\n",
       "      <th>1</th>\n",
       "      <td>[statsmodels, scipy, python, machine learning,...</td>\n",
       "    </tr>\n",
       "    <tr>\n",
       "      <th>2</th>\n",
       "      <td>[sql, mathematics, python, machine learning, d...</td>\n",
       "    </tr>\n",
       "    <tr>\n",
       "      <th>3</th>\n",
       "      <td>[sql, linear programming, python, r, machine l...</td>\n",
       "    </tr>\n",
       "    <tr>\n",
       "      <th>4</th>\n",
       "      <td>[c, python, data analysis, core java, data str...</td>\n",
       "    </tr>\n",
       "    <tr>\n",
       "      <th>...</th>\n",
       "      <td>...</td>\n",
       "    </tr>\n",
       "    <tr>\n",
       "      <th>957</th>\n",
       "      <td>[word, excel, ms office]</td>\n",
       "    </tr>\n",
       "    <tr>\n",
       "      <th>958</th>\n",
       "      <td>[]</td>\n",
       "    </tr>\n",
       "    <tr>\n",
       "      <th>959</th>\n",
       "      <td>[]</td>\n",
       "    </tr>\n",
       "    <tr>\n",
       "      <th>960</th>\n",
       "      <td>[pcb, pcb design, matlab]</td>\n",
       "    </tr>\n",
       "    <tr>\n",
       "      <th>961</th>\n",
       "      <td>[testing, windows xp, database testing, css, d...</td>\n",
       "    </tr>\n",
       "  </tbody>\n",
       "</table>\n",
       "<p>962 rows × 1 columns</p>\n",
       "</div>"
      ],
      "text/plain": [
       "                                                Skills\n",
       "0                         [jquery, python, javascript]\n",
       "1    [statsmodels, scipy, python, machine learning,...\n",
       "2    [sql, mathematics, python, machine learning, d...\n",
       "3    [sql, linear programming, python, r, machine l...\n",
       "4    [c, python, data analysis, core java, data str...\n",
       "..                                                 ...\n",
       "957                           [word, excel, ms office]\n",
       "958                                                 []\n",
       "959                                                 []\n",
       "960                          [pcb, pcb design, matlab]\n",
       "961  [testing, windows xp, database testing, css, d...\n",
       "\n",
       "[962 rows x 1 columns]"
      ]
     },
     "execution_count": 98,
     "metadata": {},
     "output_type": "execute_result"
    }
   ],
   "source": [
    "\n",
    "skills = []\n",
    "for index, row in dados.iterrows():\n",
    "    text = row['Resume']\n",
    "    \n",
    "    if 'skill details' in text.lower():\n",
    "        scraped_skills = extractSkillsOnly(text)\n",
    "\n",
    "        skills.append(scraped_skills)\n",
    "\n",
    "\n",
    "skills_df = pd.DataFrame({'Skills': skills})\n",
    "\n",
    "skills_df"
   ]
  },
  {
   "cell_type": "markdown",
   "metadata": {},
   "source": [
    "### KMeans Clustering\n",
    "\n",
    "As a first approach, I used the *KMeans* algorithm to cluster the skills in 5 clusters. Then, I've plotted the clusters in a 2D chart using the *matplotlib* library."
   ]
  },
  {
   "cell_type": "code",
   "execution_count": 99,
   "metadata": {},
   "outputs": [
    {
     "name": "stdout",
     "output_type": "stream",
     "text": [
      "Silhouette Score: 0.17383208246885007\n"
     ]
    },
    {
     "data": {
      "image/png": "[encoded data removed]",
      "text/plain": [
       "<Figure size 1000x600 with 1 Axes>"
      ]
     },
     "metadata": {},
     "output_type": "display_data"
    }
   ],
   "source": [
    "skills_df['Skills'] = skills_df['Skills'].apply(lambda x: ' '.join(x)) \n",
    "\n",
    "vectorizer = CountVectorizer()\n",
    "\n",
    "X = vectorizer.fit_transform(skills_df['Skills'])\n",
    "\n",
    "num_clusters = 5\n",
    "kmeans = KMeans(n_clusters=num_clusters, random_state=42)\n",
    "\n",
    "kmeans.fit(X)\n",
    "\n",
    "skills_df['Cluster'] = kmeans.labels_\n",
    "\n",
    "silhouette_avg = silhouette_score(X, kmeans.labels_)\n",
    "\n",
    "print(\"Silhouette Score:\", silhouette_avg)\n",
    "\n",
    "pca = PCA(n_components=2)\n",
    "X_pca = pca.fit_transform(X.toarray())\n",
    "\n",
    "\n",
    "plt.figure(figsize=(10, 6))\n",
    "for cluster_num in range(num_clusters):\n",
    "    plt.scatter(X_pca[skills_df['Cluster'] == cluster_num, 0],\n",
    "                X_pca[skills_df['Cluster'] == cluster_num, 1],\n",
    "                label=f'Cluster {cluster_num}')\n",
    "\n",
    "plt.title('KMeans Clustering of Programming Languages')\n",
    "plt.xlabel('Principal Component 1')\n",
    "plt.ylabel('Principal Component 2')\n",
    "plt.legend()\n",
    "plt.grid(True)\n",
    "plt.show()\n"
   ]
  },
  {
   "cell_type": "markdown",
   "metadata": {},
   "source": [
    "We can see from this analysis that the languages have similar characteristics, and are grouped together. The same happens with the data tools, and the management tools. This analysis shows that the skills are related to eachother and tend to appear together, which is a good insight to understand the relationship between the skills cited in the resumes."
   ]
  },
  {
   "cell_type": "markdown",
   "metadata": {},
   "source": [
    "### DBSCAN\n",
    "\n",
    "To see if the results are consistent, I've used the *DBSCAN* algorithm to cluster the skills. Then, I've plotted the clusters in a 2D chart using the *matplotlib* library."
   ]
  },
  {
   "cell_type": "code",
   "execution_count": 100,
   "metadata": {},
   "outputs": [
    {
     "name": "stdout",
     "output_type": "stream",
     "text": [
      "Silhouette Score: 0.9944450989300335\n"
     ]
    },
    {
     "data": {
      "image/png": "[encoded data removed]",
      "text/plain": [
       "<Figure size 1000x600 with 1 Axes>"
      ]
     },
     "metadata": {},
     "output_type": "display_data"
    }
   ],
   "source": [
    "\n",
    "# Initialize CountVectorizer\n",
    "vectorizer = CountVectorizer()\n",
    "X = vectorizer.fit_transform(skills_df['Skills'])\n",
    "\n",
    "# DBSCAN\n",
    "dbscan = DBSCAN(eps=0.5, min_samples=2)  # You can adjust eps and min_samples\n",
    "dbscan.fit(X)\n",
    "\n",
    "# Extracting cluster labels\n",
    "labels = dbscan.labels_\n",
    "\n",
    "# Compute silhouette score\n",
    "silhouette_avg = silhouette_score(X, labels)\n",
    "print(\"Silhouette Score:\", silhouette_avg)\n",
    "\n",
    "# Apply PCA for visualization\n",
    "pca = PCA(n_components=2)\n",
    "X_pca = pca.fit_transform(X.toarray())\n",
    "\n",
    "# Plotting the clusters\n",
    "plt.figure(figsize=(10, 6))\n",
    "plt.scatter(X_pca[:, 0], X_pca[:, 1], c=labels, cmap='viridis', marker='o')\n",
    "plt.title('DBSCAN Clustering of Programming Languages')\n",
    "plt.xlabel('Principal Component 1')\n",
    "plt.ylabel('Principal Component 2')\n",
    "plt.grid(True)\n",
    "plt.show()"
   ]
  },
  {
   "cell_type": "markdown",
   "metadata": {},
   "source": [
    "As we clearly see, the results are consistent with the KMeans algorithm. The skills are grouped together in a similar way, showing that the skills are related to eachother and tend to appear together."
   ]
  },
  {
   "cell_type": "markdown",
   "metadata": {},
   "source": [
    "### Explain the rationale of your NLP techniques/ML models usage and conclusions"
   ]
  },
  {
   "cell_type": "markdown",
   "metadata": {},
   "source": [
    "The similarity observed in the data analysis using KMeans and DBSCAN reveals several key insights into the underlying structure and characteristics of the dataset.\n",
    "\n",
    "Firstly, the resemblance in the clustering results suggests that the programming languages dataset exhibits clear patterns and clusters that are discernible by both algorithms. This implies that the programming languages within the dataset possess inherent relationships and similarities based on their usage patterns, syntax, or domains of application.\n",
    "\n",
    "While the convergence of results between KMeans and DBSCAN underscores the presence of meaningful structure within the programming languages dataset, it is important to interpret the clusters with caution and consider the specific characteristics and nuances of the data. Further exploration, including domain-specific analysis and validation, can provide deeper insights into the relationships and associations among programming languages within the dataset. \n",
    "\n",
    "\n",
    "Despite the lack of clear knowledge about the dataset, this exercise underscores the importance of rigorous experimentation and exploration in deriving meaningful insights. Further analysis, including domain-specific understanding and model evaluation, would be essential for validating and interpreting the clustering results effectively.\n",
    "\n",
    "\n",
    "Thank you for the opportunity to participate in this selective process. I appreciate the chance to engage with the dataset and explore machine learning techniques as part of the challenge. I look forward to the possibility of joining the internship and continuing to learn and grow in the field of data analysis and machine learning.\n",
    "\n"
   ]
  },
  {
   "cell_type": "markdown",
   "metadata": {},
   "source": [
    "# 3) Presentation"
   ]
  },
  {
   "cell_type": "markdown",
   "metadata": {},
   "source": [
    "The **third** and last exercise is: present your findings to us, challenges of this exercise and how you handled them, and any other important information you will like to share with us.\n",
    "<br><br>\n",
    "We will be evaluating your Python code, how you organize your toughts and explanations during the presentation, and other aspects we see as important for a good presentation. You don't need to generate any output for this third task. "
   ]
  },
  {
   "cell_type": "markdown",
   "metadata": {},
   "source": [
    "Good luck! :)"
   ]
  }
 ],
 "metadata": {
  "kernelspec": {
   "display_name": "Python 3 (ipykernel)",
   "language": "python",
   "name": "python3"
  },
  "language_info": {
   "codemirror_mode": {
    "name": "ipython",
    "version": 3
   },
   "file_extension": ".py",
   "mimetype": "text/x-python",
   "name": "python",
   "nbconvert_exporter": "python",
   "pygments_lexer": "ipython3",
   "version": "3.11.5"
  }
 },
 "nbformat": 4,
 "nbformat_minor": 4
}
